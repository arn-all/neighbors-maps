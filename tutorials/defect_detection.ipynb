{
 "cells": [
  {
   "cell_type": "markdown",
   "metadata": {},
   "source": [
    "Interactive version of the tutorial: [![Binder](https://mybinder.org/badge_logo.svg)](https://mybinder.org/v2/gh/pgrigorev/neighbors-maps.git/HEAD?labpath=tutorials%2Fdefect_detection.ipynb)"
   ]
  },
  {
   "cell_type": "code",
   "execution_count": 62,
   "metadata": {},
   "outputs": [],
   "source": [
    "import matplotlib.pyplot as plt\n",
    "\n",
    "import sys\n",
    "sys.path.insert(0, \"../\")\n",
    "from neighbor_map import Atoms\n",
    "from ase.atoms import Atom\n",
    "\n",
    "from ase.lattice.cubic import SimpleCubic, BodyCenteredCubic, FaceCenteredCubic, Diamond\n",
    "\n",
    "def get_cutoff(atoms, n_neightbours, cutoff=10.):\n",
    "    \"\"\"\n",
    "    Function to get the distance of n_th neighbour using matscipy neighbour list.\n",
    "    \"\"\"\n",
    "    from matscipy.neighbours import neighbour_list\n",
    "\n",
    "    i, d = neighbour_list(\"id\", atoms, cutoff=cutoff)\n",
    "    first_atom_d = d[i == 0]\n",
    "    first_atom_d.sort()\n",
    "    return first_atom_d[n_neightbours]"
   ]
  },
  {
   "cell_type": "code",
   "execution_count": 60,
   "metadata": {},
   "outputs": [],
   "source": [
    "bulks = []\n",
    "vacancies = []\n",
    "interstitials = []\n",
    "\n",
    "for lattice, symbol in zip([SimpleCubic, BodyCenteredCubic, FaceCenteredCubic, Diamond],\n",
    "                            [\"Po\", \"Fe\", \"Ni\", \"C\"]):\n",
    "    bulk = lattice(symbol, size=(4, 4, 4))\n",
    "    bulks.append(Atoms(bulk))\n",
    "    \n",
    "    vacancy = bulk.copy()\n",
    "    del vacancy[1]\n",
    "    vacancies.append(Atoms(vacancy))\n",
    "\n",
    "    interstitial = bulk.copy()\n",
    "    interstitial.extend(Atom(symbol, (2.5, 2.5, 1.5)))\n",
    "    interstitials.append(Atoms(interstitial))"
   ]
  },
  {
   "cell_type": "code",
   "execution_count": 65,
   "metadata": {},
   "outputs": [
    {
     "data": {
      "image/png": "[encoded data removed]",
      "text/plain": [
       "<Figure size 720x576 with 12 Axes>"
      ]
     },
     "metadata": {
      "needs_background": "light"
     },
     "output_type": "display_data"
    }
   ],
   "source": [
    "fig, axes = plt.subplots(nrows=3, ncols=4, figsize=(10, 8))\n",
    "\n",
    "for structure, title, ax in zip(bulks,\n",
    "                                [\"SC\", \"BCC\", \"FCC\", \"Diamond\"], axes[0]):\n",
    "\n",
    "    ax.imshow(structure.get_descriptor(atom_id=0, r_cut=1.2 * get_cutoff(structure, 32), img_target_size=32))\n",
    "    ax.set_title(title)\n",
    "    ax.axis(\"off\")\n",
    "\n",
    "for structure, title, ax in zip(vacancies,\n",
    "                                [\"SC\", \"BCC\", \"FCC\", \"Diamond\"], axes[1]):\n",
    "\n",
    "    ax.imshow(structure.get_descriptor(atom_id=0, r_cut=1.2 * get_cutoff(structure, 32), img_target_size=32))\n",
    "    ax.set_title(\"Vacancy in \" + title)\n",
    "    ax.axis(\"off\")\n",
    "\n",
    "\n",
    "for structure, title, ax in zip(interstitials,\n",
    "                                [\"SC\", \"BCC\", \"FCC\", \"Diamond\"], axes[2]):\n",
    "\n",
    "    ax.imshow(structure.get_descriptor(atom_id=0, r_cut=1.2 * get_cutoff(structure, 32), img_target_size=32))\n",
    "    ax.set_title(\"Interstitial in \" + title)\n",
    "    ax.axis(\"off\")\n",
    "\n",
    "    \n",
    "fig.tight_layout()"
   ]
  },
  {
   "cell_type": "markdown",
   "metadata": {},
   "source": [
    "The preliminary outline of the tutorial:\n",
    "- Introduction to neighbour maps as above (maybe more details about how it is constructed). Maybe add 3D interactive NGlView visualisations of atomic configurations?\n",
    "- Training of the classifier on the on defects identified by Distortion Scores. Data should be provided in `data` folder. (Ask Sacha)\n",
    "- Application to the MD data of the cascade. Ideally I should provide a MD simulation where C15 cluster is formed. Perhaps will need few cascades one after another. We should think how we then use the mapping: just a nice movie or extraction of physical data such as temperature of molten region etc.?\n",
    "\n",
    "Do you think interactive plots could be helpful?"
   ]
  }
 ],
 "metadata": {
  "kernelspec": {
   "display_name": "base",
   "language": "python",
   "name": "python3"
  },
  "language_info": {
   "codemirror_mode": {
    "name": "ipython",
    "version": 3
   },
   "file_extension": ".py",
   "mimetype": "text/x-python",
   "name": "python",
   "nbconvert_exporter": "python",
   "pygments_lexer": "ipython3",
   "version": "3.9.15"
  },
  "orig_nbformat": 4
 },
 "nbformat": 4,
 "nbformat_minor": 2
}
