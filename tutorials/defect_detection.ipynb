{
 "cells": [
  {
   "cell_type": "markdown",
   "metadata": {},
   "source": [
    "Interactive version of the tutorial: [![Binder](https://mybinder.org/badge_logo.svg)](https://mybinder.org/v2/gh/pgrigorev/neighbors-maps.git/HEAD?labpath=tutorials%2Fdefect_detection.ipynb)"
   ]
  },
  {
   "cell_type": "code",
   "execution_count": 2,
   "metadata": {},
   "outputs": [],
   "source": [
    "import matplotlib.pyplot as plt\n",
    "\n",
    "import sys\n",
    "sys.path.insert(0, \"../\")\n",
    "from neighbor_map import Atoms\n",
    "from ase.atoms import Atom\n",
    "\n",
    "\n",
    "def get_cutoff(atoms, n_neightbours, cutoff=10.):\n",
    "    \"\"\"\n",
    "    Function to get the distance of n_th neighbour using matscipy neighbour list.\n",
    "    \"\"\"\n",
    "    from matscipy.neighbours import neighbour_list\n",
    "\n",
    "    i, d = neighbour_list(\"id\", atoms, cutoff=cutoff)\n",
    "    first_atom_d = d[i == 0]\n",
    "    first_atom_d.sort()\n",
    "    return first_atom_d[n_neightbours]"
   ]
  },
  {
   "cell_type": "markdown",
   "metadata": {},
   "source": [
    "We will look at four examples of cubic structures:\n",
    "- Simple Cubic (SC): Po \n",
    "- Bulk Centered Cubic (BCC): Fe\n",
    "- Face Centered Cubic (FCC): Ni\n",
    "- Diamond: C\n",
    "\n",
    "[Atomic Simulations Environment (ASE)](https://wiki.fysik.dtu.dk/ase/) has an excellent set of tools for [building things](https://wiki.fysik.dtu.dk/ase/ase/build/build.html). We just need to provide the symbol of the element and it will create a unit cell with the structure and lattice parameter from the internal database. "
   ]
  },
  {
   "cell_type": "code",
   "execution_count": 50,
   "metadata": {},
   "outputs": [],
   "source": [
    "from ase.build import bulk\n",
    "\n",
    "unit_cells = []\n",
    "for symbol in [\"Po\", \"Fe\", \"Ni\", \"C\"]:\n",
    "    unit_cells.append(bulk(symbol, cubic=True))\n",
    "    "
   ]
  },
  {
   "cell_type": "markdown",
   "metadata": {},
   "source": [
    "Lets have a look on the structures. We will use [nglview](https://github.com/nglviewer/nglview) for interactive visulisations."
   ]
  },
  {
   "cell_type": "code",
   "execution_count": 88,
   "metadata": {},
   "outputs": [],
   "source": [
    "def show_structures(structures, labels):\n",
    "    from nglview import show_ase, ASEStructure\n",
    "\n",
    "    # create an empty canvas\n",
    "    view = show_ase(structures[0], default_representation=False)\n",
    "    view.remove_component(view[0])\n",
    "\n",
    "    for label, structure in zip(labels, structures):\n",
    "        # add new component to visualise\n",
    "        component  = view.add_component(ASEStructure(structure), default_representation=False, name=label + \" \" + str(structure.symbols))\n",
    "        \n",
    "        # set up the vew as just atomic spheres with unit cell\n",
    "        scale=0.5\n",
    "        component.add_spacefill()\n",
    "        component.update_spacefill(radiusType='covalent',\n",
    "                                radiusScale=scale)\n",
    "        component.add_unitcell()\n",
    "\n",
    "        # show only simple cubic in starting window\n",
    "        if label != \"Simple Cubic\":\n",
    "            component.hide()\n",
    "\n",
    "    view.camera = 'orthographic'\n",
    "    view.parameters = {\"clipDist\": 0}\n",
    "\n",
    "    view.gui_style = \"NGL\"\n",
    "    return view"
   ]
  },
  {
   "cell_type": "code",
   "execution_count": 93,
   "metadata": {},
   "outputs": [
    {
     "data": {
      "application/vnd.jupyter.widget-view+json": {
       "model_id": "9ba2c038b9a9443d9da1efb17f9d1e16",
       "version_major": 2,
       "version_minor": 0
      },
      "text/plain": [
       "NGLWidget(gui_style='ngl')"
      ]
     },
     "metadata": {},
     "output_type": "display_data"
    }
   ],
   "source": [
    "labels = [\"Simple Cubic\", \"BCC\", \"FCC\", \"Diamond\"]\n",
    "show_structures(unit_cells, labels=labels)"
   ]
  },
  {
   "cell_type": "markdown",
   "metadata": {},
   "source": [
    "Lets look on the larger cells that we will use as a mode of bulk structures. To create on we just need to replicate the unit cell N times in each directions. We will use the cells of size 4x4x4 in this tutorial."
   ]
  },
  {
   "cell_type": "code",
   "execution_count": 91,
   "metadata": {},
   "outputs": [],
   "source": [
    "bulks = []\n",
    "vacancies = []\n",
    "interstitials = []\n",
    "\n",
    "for unit_cell in unit_cells:\n",
    "    bulk = unit_cell * [4, 4, 4]\n",
    "    bulks.append(Atoms(bulk))\n",
    "    \n",
    "    vacancy = bulk.copy()\n",
    "    del vacancy[1]\n",
    "    vacancies.append(Atoms(vacancy))\n",
    "\n",
    "    interstitial = bulk.copy()\n",
    "    interstitial.extend(Atom(symbol, (2.5, 2.5, 1.5)))\n",
    "    interstitials.append(Atoms(interstitial))"
   ]
  },
  {
   "cell_type": "code",
   "execution_count": 94,
   "metadata": {},
   "outputs": [
    {
     "data": {
      "application/vnd.jupyter.widget-view+json": {
       "model_id": "1cf93f6b479143428d9d129607643326",
       "version_major": 2,
       "version_minor": 0
      },
      "text/plain": [
       "NGLWidget(gui_style='ngl')"
      ]
     },
     "metadata": {},
     "output_type": "display_data"
    }
   ],
   "source": [
    "show_structures(bulks, labels=labels)"
   ]
  },
  {
   "cell_type": "code",
   "execution_count": 95,
   "metadata": {},
   "outputs": [
    {
     "data": {
      "image/png": "[encoded data removed]",
      "text/plain": [
       "<Figure size 720x576 with 12 Axes>"
      ]
     },
     "metadata": {
      "needs_background": "light"
     },
     "output_type": "display_data"
    }
   ],
   "source": [
    "fig, axes = plt.subplots(nrows=3, ncols=4, figsize=(10, 8))\n",
    "\n",
    "for structure, title, ax in zip(bulks, labels, axes[0]):\n",
    "\n",
    "    ax.imshow(structure.get_descriptor(atom_id=0, r_cut=1.2 * get_cutoff(structure, 32), img_target_size=32))\n",
    "    ax.set_title(title)\n",
    "    ax.axis(\"off\")\n",
    "\n",
    "for structure, title, ax in zip(vacancies, labels, axes[1]):\n",
    "\n",
    "    ax.imshow(structure.get_descriptor(atom_id=0, r_cut=1.2 * get_cutoff(structure, 32), img_target_size=32))\n",
    "    ax.set_title(\"Vacancy in \" + title)\n",
    "    ax.axis(\"off\")\n",
    "\n",
    "\n",
    "for structure, title, ax in zip(interstitials, labels, axes[2]):\n",
    "\n",
    "    ax.imshow(structure.get_descriptor(atom_id=0, r_cut=1.2 * get_cutoff(structure, 32), img_target_size=32))\n",
    "    ax.set_title(\"Interstitial in \" + title)\n",
    "    ax.axis(\"off\")\n",
    "\n",
    "    \n",
    "fig.tight_layout()"
   ]
  },
  {
   "cell_type": "markdown",
   "metadata": {},
   "source": [
    "The preliminary outline of the tutorial:\n",
    "- Introduction to neighbour maps as above (maybe more details about how it is constructed). Maybe add 3D interactive NGlView visualisations of atomic configurations?\n",
    "- Training of the classifier on the on defects identified by Distortion Scores. Data should be provided in `data` folder. (Ask Sacha)\n",
    "- Application to the MD data of the cascade. Ideally I should provide a MD simulation where C15 cluster is formed. Perhaps will need few cascades one after another. We should think how we then use the mapping: just a nice movie or extraction of physical data such as temperature of molten region etc.?\n",
    "\n",
    "Do you think interactive plots could be helpful?"
   ]
  }
 ],
 "metadata": {
  "kernelspec": {
   "display_name": "base",
   "language": "python",
   "name": "python3"
  },
  "language_info": {
   "codemirror_mode": {
    "name": "ipython",
    "version": 3
   },
   "file_extension": ".py",
   "mimetype": "text/x-python",
   "name": "python",
   "nbconvert_exporter": "python",
   "pygments_lexer": "ipython3",
   "version": "3.9.15"
  },
  "orig_nbformat": 4
 },
 "nbformat": 4,
 "nbformat_minor": 2
}
